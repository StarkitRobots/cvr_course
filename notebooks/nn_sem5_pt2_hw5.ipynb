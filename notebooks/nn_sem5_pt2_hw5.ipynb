{
 "cells": [
  {
   "cell_type": "code",
   "execution_count": null,
   "metadata": {
    "scrolled": true
   },
   "outputs": [],
   "source": [
    "import math\n",
    "import random\n",
    "\n",
    "import numpy as np\n",
    "import matplotlib.pyplot as plt\n",
    "%matplotlib inline\n",
    "\n",
    "import torch\n",
    "from torch.autograd import Variable\n",
    "import torch.nn as nn\n",
    "import torch.nn.functional as F\n",
    "import torch.optim as optim\n",
    "from torch.utils.data import Dataset, DataLoader"
   ]
  },
  {
   "cell_type": "code",
   "execution_count": null,
   "metadata": {},
   "outputs": [],
   "source": [
    "device=torch.device('cuda:0' if torch.cuda.is_available() else 'cpu')"
   ]
  },
  {
   "cell_type": "markdown",
   "metadata": {},
   "source": [
    "# Domik Dataset"
   ]
  },
  {
   "cell_type": "code",
   "execution_count": null,
   "metadata": {},
   "outputs": [],
   "source": [
    "class DomikDataset(Dataset):\n",
    "    def __init__(self, dataset_size, noise=0.0):\n",
    "        super().__init__()\n",
    "        self.house_width = 0.6\n",
    "        self.house_height = 0.7\n",
    "        self.roof_height = 0.3\n",
    "        \n",
    "        self.points, self.targets = self._generate(dataset_size, noise)\n",
    "\n",
    "    def _left_roof(self, point):\n",
    "        b = (0.5 * self.house_height - (self.house_height + self.roof_height) * (1 - self.house_width) / 2) / \\\n",
    "            (0.5 - (1 - self.house_width) / 2)\n",
    "        k =  2 * (self.house_height - b) / (1 - self.house_width)\n",
    "        return k * point[0] + b >= point[1]\n",
    "\n",
    "    def _right_roof(self, point):\n",
    "        b = (0.5 * self.house_height - (self.house_height + self.roof_height) * (1 + self.house_width) / 2) / \\\n",
    "            (0.5 - (1 + self.house_width) / 2)\n",
    "        k = 2 * (self.house_height - b) / (1 + self.house_width)\n",
    "        return k * point[0] + b >= point[1]\n",
    "    \n",
    "    \n",
    "    def _generate(self, size, noise):\n",
    "        points = [[random.random(), random.random()] for i in range(size)]\n",
    "\n",
    "        targets = []\n",
    "        for point in points:\n",
    "            if (1 - self.house_width) / 2 <= point[0] <= (1 + self.house_width) / 2 and \\\n",
    "                self._left_roof(point) and self._right_roof(point):   \n",
    "                inside = 1.\n",
    "            else:\n",
    "                inside = 0.\n",
    "\n",
    "            if random.random() < noise:\n",
    "                inside = 1. - inside\n",
    "\n",
    "            targets.append(torch.tensor([inside], device=device))\n",
    "\n",
    "        return points, targets\n",
    "    \n",
    "    def show(self, dividing_criterion=lambda s: 1 if s > 0.5 else 0):\n",
    "        domik_x = []\n",
    "        domik_y = []\n",
    "        nedomik_x = []\n",
    "        nedomik_y = []\n",
    "\n",
    "        for sample in self:\n",
    "            point, target = sample\n",
    "            if dividing_criterion(target):\n",
    "                domik_x.append(point[0])\n",
    "                domik_y.append(point[1])\n",
    "            else: \n",
    "                nedomik_x.append(point[0])\n",
    "                nedomik_y.append(point[1])\n",
    "\n",
    "        plt.plot(domik_x, domik_y, '.', nedomik_x, nedomik_y,'.')\n",
    "\n",
    "    def __len__(self):\n",
    "        return len(self.points)\n",
    "\n",
    "    def __getitem__(self, idx):\n",
    "        if torch.is_tensor(idx):\n",
    "            idx = idx.tolist()\n",
    "               \n",
    "        sample = (torch.tensor(self.points[idx], device=device), self.targets[idx])\n",
    "\n",
    "        return sample"
   ]
  },
  {
   "cell_type": "markdown",
   "metadata": {},
   "source": [
    "# Train function"
   ]
  },
  {
   "cell_type": "code",
   "execution_count": null,
   "metadata": {
    "scrolled": true
   },
   "outputs": [],
   "source": [
    "def train(network, train_dataset, epochs, criterion, optimizer):\n",
    "    loss_epochs = []\n",
    "    for idx in range(epochs):\n",
    "        loss_samples = []\n",
    "        for sample in train_dataset:\n",
    "            optimizer.zero_grad()   # zero the gradient buffers\n",
    "            point, target = sample\n",
    "            output = network(point)\n",
    "            loss = criterion(output, target.to(device))\n",
    "            loss.backward()\n",
    "            loss_samples.append(loss.data.numpy())\n",
    "            optimizer.step()    # Does the update\n",
    "\n",
    "        loss_samples_mean = float(sum(loss_samples)) / len (loss_samples)\n",
    "        print(f\"Epoch {idx: >8} Loss: {loss_samples_mean}\")\n",
    "        loss_epochs.append(loss_samples_mean)\n",
    "\n",
    "    plt.plot(loss_epochs)\n",
    "    plt.ylabel('Loss')\n",
    "    plt.xlabel('Epoch')\n",
    "    plt.show() "
   ]
  },
  {
   "cell_type": "markdown",
   "metadata": {},
   "source": [
    "# Test function"
   ]
  },
  {
   "cell_type": "code",
   "execution_count": null,
   "metadata": {},
   "outputs": [],
   "source": [
    "def test(network, test_dataset, dividing_criterion):\n",
    "    domik_x = []\n",
    "    domik_y = []\n",
    "    nedomik_x = []\n",
    "    nedomik_y = []\n",
    "\n",
    "    correct = 0\n",
    "    total = 0\n",
    "\n",
    "    with torch.no_grad():\n",
    "        for sample in test_dataset:\n",
    "            inp, target = sample\n",
    "            output = network(inp)\n",
    "            total += 1\n",
    "            correct += (dividing_criterion(output) == dividing_criterion(target))\n",
    "\n",
    "            # dividing dataset for plotting\n",
    "            if dividing_criterion(output):\n",
    "                \n",
    "                domik_x.append(inp[0])\n",
    "                domik_y.append(inp[1])\n",
    "            else: \n",
    "                nedomik_x.append(inp[0])\n",
    "                nedomik_y.append(inp[1])\n",
    "    \n",
    "    plt.figure(figsize=(20,5))\n",
    "    plt.subplot(121)\n",
    "    test_dataset.show()\n",
    "    plt.subplot(122)\n",
    "    plt.plot(domik_x, domik_y, '.', nedomik_x, nedomik_y, '.')\n",
    "\n",
    "    print(f'Accuracy of the network on the {total} test samples: {100 * correct / total}')"
   ]
  },
  {
   "cell_type": "markdown",
   "metadata": {},
   "source": [
    "# First steps"
   ]
  },
  {
   "cell_type": "markdown",
   "metadata": {},
   "source": [
    "## Dataset"
   ]
  },
  {
   "cell_type": "code",
   "execution_count": null,
   "metadata": {
    "scrolled": false
   },
   "outputs": [],
   "source": [
    "DATASET_SIZE = 5000\n",
    "domik = DomikDataset(DATASET_SIZE)\n",
    "\n",
    "data = DataLoader(domik, batch_size=1)\n",
    "\n",
    "# plotting\n",
    "domik.show()"
   ]
  },
  {
   "cell_type": "markdown",
   "metadata": {},
   "source": [
    "## Net"
   ]
  },
  {
   "cell_type": "code",
   "execution_count": null,
   "metadata": {},
   "outputs": [],
   "source": [
    "class Net(nn.Module):\n",
    "\n",
    "    def __init__(self):\n",
    "        super(Net, self).__init__()\n",
    "        # an affine operation: y = Wx + b\n",
    "        self.fc1 = nn.Linear(2, 1)\n",
    "\n",
    "    def forward(self, x):\n",
    "        x = F.sigmoid(self.fc1(x))\n",
    "        return x\n",
    "\n",
    "net = Net().float().to(device)\n",
    "print(net)"
   ]
  },
  {
   "cell_type": "code",
   "execution_count": null,
   "metadata": {},
   "outputs": [],
   "source": [
    "class Net(nn.Module):\n",
    "\n",
    "    def __init__(self):\n",
    "        super(Net, self).__init__()\n",
    "        # an affine operation: y = Wx + b\n",
    "        self.fc1 = nn.Linear(2, 10)\n",
    "        self.fc2 = nn.Linear(10, 1)\n",
    "\n",
    "    def forward(self, x):\n",
    "        x = F.leaky_relu(self.fc1(x))\n",
    "        x = F.leaky_relu(self.fc2(x))\n",
    "        return x\n",
    "\n",
    "net = Net().float().to(device)\n",
    "print(net)"
   ]
  },
  {
   "cell_type": "markdown",
   "metadata": {},
   "source": [
    "## Train"
   ]
  },
  {
   "cell_type": "code",
   "execution_count": null,
   "metadata": {
    "scrolled": true
   },
   "outputs": [],
   "source": [
    "EPOCHS_TO_TRAIN = 3\n",
    "train(network=net, \n",
    "      train_dataset=domik, \n",
    "      epochs=EPOCHS_TO_TRAIN, \n",
    "      criterion=nn.MSELoss(), \n",
    "      optimizer=optim.SGD(net.parameters(), lr=0.001))"
   ]
  },
  {
   "cell_type": "markdown",
   "metadata": {},
   "source": [
    "## Test"
   ]
  },
  {
   "cell_type": "code",
   "execution_count": null,
   "metadata": {
    "scrolled": true
   },
   "outputs": [],
   "source": [
    "test_dataset = DomikDataset(DATASET_SIZE*5)\n",
    "test(network=net, test_dataset=test_dataset, dividing_criterion=lambda s: 1 if s > 0.5 else 0)"
   ]
  },
  {
   "cell_type": "markdown",
   "metadata": {},
   "source": [
    "# Domik dataset for multi classes"
   ]
  },
  {
   "cell_type": "code",
   "execution_count": null,
   "metadata": {},
   "outputs": [],
   "source": [
    "class MultiClassDomikDataset(DomikDataset):\n",
    "    def __init__(self, dataset_size, noise=0.0):\n",
    "        super().__init__(dataset_size, noise)\n",
    "        \n",
    "    def show(self, dividing_criterion=lambda s: s[0] > s[1]):\n",
    "        #super().show(dividing_criterion)\n",
    "        super().show()\n",
    "        \n",
    "    def _generate(self, size, noise):\n",
    "        points, targets = super()._generate(size, noise)\n",
    "        for i, target in enumerate(targets):\n",
    "            targets[i] = int(targets[i].item())\n",
    "        return points, targets"
   ]
  },
  {
   "cell_type": "code",
   "execution_count": null,
   "metadata": {
    "scrolled": false
   },
   "outputs": [],
   "source": [
    "DATASET_SIZE = 5000\n",
    "domik = MultiClassDomikDataset(DATASET_SIZE)\n",
    "\n",
    "data = DataLoader(domik, batch_size=3)\n",
    "\n",
    "# plotting\n",
    "domik.show()"
   ]
  },
  {
   "cell_type": "markdown",
   "metadata": {},
   "source": [
    "## Net"
   ]
  },
  {
   "cell_type": "code",
   "execution_count": null,
   "metadata": {},
   "outputs": [],
   "source": [
    "class Net(nn.Module):\n",
    "\n",
    "    def __init__(self):\n",
    "        super(Net, self).__init__()\n",
    "        # an affine operation: y = Wx + b\n",
    "        self.fc1 = nn.Linear(2, 10)\n",
    "        self.fc2 = nn.Linear(10, 2)\n",
    "\n",
    "    def forward(self, x):\n",
    "        x = F.leaky_relu(self.fc1(x))\n",
    "        x = F.leaky_relu(self.fc2(x))\n",
    "        return x\n",
    "\n",
    "net = Net().float().to(device)\n",
    "print(net)"
   ]
  },
  {
   "cell_type": "markdown",
   "metadata": {},
   "source": [
    "## Train"
   ]
  },
  {
   "cell_type": "code",
   "execution_count": null,
   "metadata": {
    "scrolled": true
   },
   "outputs": [],
   "source": [
    "EPOCHS_TO_TRAIN = 20\n",
    "train(network=net, \n",
    "      train_dataset=data, \n",
    "      epochs=EPOCHS_TO_TRAIN, \n",
    "      criterion=nn.CrossEntropyLoss(), \n",
    "      optimizer=optim.SGD(net.parameters(), lr=0.1))"
   ]
  },
  {
   "cell_type": "markdown",
   "metadata": {},
   "source": [
    "## Test"
   ]
  },
  {
   "cell_type": "code",
   "execution_count": null,
   "metadata": {},
   "outputs": [],
   "source": [
    "def test_multiple(network, test_dataset, dividing_criterion):\n",
    "    domik_x = []\n",
    "    domik_y = []\n",
    "    nedomik_x = []\n",
    "    nedomik_y = []\n",
    "\n",
    "    correct = 0\n",
    "    total = 0\n",
    "\n",
    "    with torch.no_grad():\n",
    "        for sample in test_dataset:\n",
    "            inp, target = sample\n",
    "            output = network(inp)\n",
    "            _, output = torch.max(output, 0)\n",
    "            total += 1\n",
    "            correct += (dividing_criterion(output) == dividing_criterion(target))\n",
    "\n",
    "            # dividing dataset for plotting\n",
    "            if dividing_criterion(output):\n",
    "                \n",
    "                domik_x.append(inp[0])\n",
    "                domik_y.append(inp[1])\n",
    "            else: \n",
    "                nedomik_x.append(inp[0])\n",
    "                nedomik_y.append(inp[1])\n",
    "    \n",
    "    plt.figure(figsize=(20,5))\n",
    "    plt.subplot(121)\n",
    "    test_dataset.show()\n",
    "    plt.subplot(122)\n",
    "    plt.plot(domik_x, domik_y, '.', nedomik_x, nedomik_y, '.')\n",
    "\n",
    "    print(f'Accuracy of the network on the {total} test samples: {100 * correct / total}')"
   ]
  },
  {
   "cell_type": "code",
   "execution_count": null,
   "metadata": {
    "scrolled": false
   },
   "outputs": [],
   "source": [
    "test_dataset = MultiClassDomikDataset(DATASET_SIZE*5)\n",
    "test_multiple(network=net, test_dataset=test_dataset, dividing_criterion=lambda s: 1 if s > 0.5 else 0)"
   ]
  },
  {
   "cell_type": "markdown",
   "metadata": {},
   "source": [
    "# Domik with window dataset"
   ]
  },
  {
   "cell_type": "code",
   "execution_count": null,
   "metadata": {},
   "outputs": [],
   "source": [
    "class WindowedDomikDataset(DomikDataset):\n",
    "    def __init__(self, dataset_size, noise=0.0):\n",
    "        super().__init__(dataset_size, noise)\n",
    "        \n",
    "    def _window(self, point, width=0.3, height=0.3, x=0.5, y='middle'):\n",
    "        if y == 'middle':\n",
    "            y = self.house_height / 2\n",
    "        is_window = x - width / 2 <= point[0] <= x + width / 2 and \\\n",
    "            y - height / 2 <= point[1] <= y + height / 2\n",
    "        return is_window\n",
    "    \n",
    "    def _generate(self, size, noise):\n",
    "        points, targets = super()._generate(size, noise)\n",
    "        for i, point in enumerate(points):\n",
    "            if self._window(point):\n",
    "                targets[i] = torch.tensor([0.], device=device)\n",
    "        return points, targets"
   ]
  },
  {
   "cell_type": "code",
   "execution_count": null,
   "metadata": {
    "scrolled": false
   },
   "outputs": [],
   "source": [
    "DATASET_SIZE = 5000\n",
    "domik = WindowedDomikDataset(DATASET_SIZE)\n",
    "\n",
    "# plotting\n",
    "domik.show()"
   ]
  },
  {
   "cell_type": "markdown",
   "metadata": {},
   "source": [
    "## Net"
   ]
  },
  {
   "cell_type": "code",
   "execution_count": null,
   "metadata": {},
   "outputs": [],
   "source": [
    "class Net(nn.Module):\n",
    "\n",
    "    def __init__(self):\n",
    "        super(Net, self).__init__()\n",
    "        # an affine operation: y = Wx + b\n",
    "        self.fc1 = nn.Linear(2, 10)\n",
    "        self.fc2 = nn.Linear(10, 10)\n",
    "        self.fc3 = nn.Linear(10, 1)\n",
    "\n",
    "    def forward(self, x):\n",
    "        x = F.leaky_relu(self.fc1(x))\n",
    "        x = F.leaky_relu(self.fc2(x))\n",
    "        x = F.leaky_relu(self.fc3(x))\n",
    "        return x\n",
    "\n",
    "net = Net().float().to(device)\n",
    "print(net)"
   ]
  },
  {
   "cell_type": "markdown",
   "metadata": {},
   "source": [
    "## Train"
   ]
  },
  {
   "cell_type": "code",
   "execution_count": null,
   "metadata": {
    "scrolled": true
   },
   "outputs": [],
   "source": [
    "EPOCHS_TO_TRAIN = 20\n",
    "train(network=net, \n",
    "      train_dataset=domik, \n",
    "      epochs=EPOCHS_TO_TRAIN, \n",
    "      criterion=nn.MSELoss(), \n",
    "      optimizer=optim.SGD(net.parameters(), lr=0.001))"
   ]
  },
  {
   "cell_type": "markdown",
   "metadata": {},
   "source": [
    "## Test"
   ]
  },
  {
   "cell_type": "code",
   "execution_count": null,
   "metadata": {
    "scrolled": true
   },
   "outputs": [],
   "source": [
    "test_dataset = WindowedDomikDataset(DATASET_SIZE*5)\n",
    "test(network=net, test_dataset=test_dataset, dividing_criterion=lambda s: 1 if s > 0.5 else 0)"
   ]
  },
  {
   "cell_type": "markdown",
   "metadata": {},
   "source": [
    "# Homework\n",
    "\n",
    "- [ ] Обучить обычный домик (Accuracy >98%). 1 балл\n",
    "- [ ] Использовать для этого двухслойную сеть. 1 балл\n",
    "- [ ] Обучить домик с многоклассовой классификацией (зa тавтологию извините) (Accuracy >98%). 1 балл\n",
    "- [ ] Использовать для этого двухслойную сеть. 1 балл\n",
    "- [ ] Обучить домик с окошком (Accuracy >98%). 1 балл\n",
    "- [ ] Использовать для этого трехслойную сеть. 1 балл\n",
    "- [ ] Обучить домик с дверью и двумя окошками (Accuracy >98%). 2 балла\n",
    "- [ ] Использовать для этого трехслойную сеть. 2 балла\n",
    "\n",
    "#### ВАЖНО! ВЫБОРКУ УВЕЛИЧИВАТЬ НЕЛЬЗЯ!\n",
    "\n",
    "Домашку выполняем в этой тетрадке и заливаем на гит, инструкция - https://youtu.be/lPcEQJiHDfg. Форма для сдачи - https://forms.gle/RJtnENVjGP6H5oPn6 \\\n",
    "Удачи!"
   ]
  },
  {
   "cell_type": "markdown",
   "metadata": {},
   "source": [
    "## Domik with door and 2 windows dataset"
   ]
  },
  {
   "cell_type": "code",
   "execution_count": null,
   "metadata": {},
   "outputs": [],
   "source": [
    "class DoorDomikDataset(WindowedDomikDataset):\n",
    "    def __init__(self, dataset_size, noise=0.0):\n",
    "        super().__init__(dataset_size, noise)\n",
    "        \n",
    "    def _door(self, point, width=0.2, height=0.5, x=0.5):\n",
    "        y = height / 2\n",
    "        is_door = x - width / 2 <= point[0] <= x + width / 2 and \\\n",
    "            y - height / 2 <= point[1] <= y + height / 2\n",
    "        return is_door\n",
    "    \n",
    "    def _window(self, point, width=0.1, height=0.3, x=0.5, y='middle'):\n",
    "        if y == 'middle':\n",
    "            y = self.house_height / 2\n",
    "        is_window = x - width / 2 <= point[0] <= x + width / 2 and \\\n",
    "            y - height / 2 <= point[1] <= y + height / 2\n",
    "        return is_window\n",
    "    \n",
    "    def show(self):\n",
    "        domik_x = []\n",
    "        domik_y = []\n",
    "        nedomik_x = []\n",
    "        nedomik_y = []\n",
    "        door_x = []\n",
    "        door_y = []\n",
    "\n",
    "        for sample in self:\n",
    "            point, target = sample\n",
    "            if target == 1:\n",
    "                domik_x.append(point[0])\n",
    "                domik_y.append(point[1])\n",
    "            elif target == 0: \n",
    "                nedomik_x.append(point[0])\n",
    "                nedomik_y.append(point[1])\n",
    "            else:\n",
    "                door_x.append(point[0])\n",
    "                door_y.append(point[1])\n",
    "\n",
    "        plt.plot(domik_x, domik_y, '.', nedomik_x, nedomik_y,'.', door_x, door_y, '.')\n",
    "    def _generate(self, size, noise):\n",
    "        points, targets = super()._generate(size, noise)\n",
    "        for i, point in enumerate(points):\n",
    "            if self._window(point, x=0.3):\n",
    "                targets[i] = torch.tensor([0.], device=device)\n",
    "            if self._window(point, x=0.7):\n",
    "                targets[i] = torch.tensor([0.], device=device)\n",
    "            if self._door(point):\n",
    "                targets[i] = torch.tensor([2.], device=device)\n",
    "                \n",
    "            targets[i] = int(targets[i].item())\n",
    "        return points, targets"
   ]
  },
  {
   "cell_type": "code",
   "execution_count": null,
   "metadata": {
    "scrolled": false
   },
   "outputs": [],
   "source": [
    "DATASET_SIZE = 5000\n",
    "# generate dataset here"
   ]
  },
  {
   "cell_type": "markdown",
   "metadata": {},
   "source": [
    "## Net"
   ]
  },
  {
   "cell_type": "code",
   "execution_count": null,
   "metadata": {},
   "outputs": [],
   "source": [
    "# create network here"
   ]
  },
  {
   "cell_type": "markdown",
   "metadata": {},
   "source": [
    "## Train"
   ]
  },
  {
   "cell_type": "code",
   "execution_count": null,
   "metadata": {},
   "outputs": [],
   "source": [
    "# train here"
   ]
  },
  {
   "cell_type": "markdown",
   "metadata": {},
   "source": [
    "## Test"
   ]
  },
  {
   "cell_type": "code",
   "execution_count": null,
   "metadata": {},
   "outputs": [],
   "source": [
    "def test_door_domik(network, test_dataset):\n",
    "    domik_x = []\n",
    "    domik_y = []\n",
    "    nedomik_x = []\n",
    "    nedomik_y = []\n",
    "    door_x = []\n",
    "    door_y = []\n",
    "\n",
    "    correct = 0\n",
    "    total = 0\n",
    "\n",
    "    with torch.no_grad():\n",
    "        for sample in test_dataset:\n",
    "            inp, target = sample\n",
    "            output = network(inp)\n",
    "            _, output = torch.max(output, 0)\n",
    "            total += 1\n",
    "            correct += (output == target).sum().item()\n",
    "\n",
    "            # dividing dataset for plotting\n",
    "            if output == 1:\n",
    "                domik_x.append(inp[0])\n",
    "                domik_y.append(inp[1])\n",
    "            elif output == 2:\n",
    "                door_x.append(inp[0])\n",
    "                door_y.append(inp[1])\n",
    "            else: \n",
    "                nedomik_x.append(inp[0])\n",
    "                nedomik_y.append(inp[1])\n",
    "    \n",
    "    plt.figure(figsize=(20,5))\n",
    "    plt.subplot(121)\n",
    "    test_dataset.show()\n",
    "    plt.subplot(122)\n",
    "    plt.plot(domik_x, domik_y, '.', nedomik_x, nedomik_y, '.', door_x, door_y, '.')\n",
    "\n",
    "    print(f'Accuracy of the network on the {total} test samples: {100 * correct / total}')"
   ]
  },
  {
   "cell_type": "code",
   "execution_count": null,
   "metadata": {},
   "outputs": [],
   "source": [
    "test_dataset = DoorDomikDataset(DATASET_SIZE*5)\n",
    "test_door_domik(network=net, test_dataset=test_dataset)"
   ]
  }
 ],
 "metadata": {
  "kernelspec": {
   "display_name": "Python 3",
   "language": "python",
   "name": "python3"
  },
  "language_info": {
   "codemirror_mode": {
    "name": "ipython",
    "version": 3
   },
   "file_extension": ".py",
   "mimetype": "text/x-python",
   "name": "python",
   "nbconvert_exporter": "python",
   "pygments_lexer": "ipython3",
   "version": "3.6.9"
  }
 },
 "nbformat": 4,
 "nbformat_minor": 2
}
