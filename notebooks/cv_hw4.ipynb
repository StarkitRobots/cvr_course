{
 "cells": [
  {
   "cell_type": "markdown",
   "metadata": {},
   "source": [
    "# Домашнее задание 4\n",
    "\n",
    "Реализуйте поиск объекта с референсного изображения на кадрах видео с помощью поиска и сопоставления ключевых точек. В этом задании рекомендуется активно пользоваться гуглом :)\n",
    "\n",
    "Скорее всего сопоставление не будет идеальным. Этого и не требуется, достаточно продемонстрировать работоспособность как минимум на первой половине видео.\n",
    "\n",
    "Объясните в отдельной клетке, какие эффекты наблюдаются ближе к концу видео и почему."
   ]
  },
  {
   "cell_type": "code",
   "execution_count": 24,
   "metadata": {},
   "outputs": [
    {
     "data": {
      "text/plain": [
       "-1"
      ]
     },
     "execution_count": 24,
     "metadata": {},
     "output_type": "execute_result"
    }
   ],
   "source": [
    "import numpy as np\n",
    "import cv2\n",
    "\n",
    "ref_path = \"../data/ref.jpg\"\n",
    "vid_path = \"../data/vid.mp4\"\n",
    "\n",
    "reference = cv2.imread(ref_path)\n",
    "cam = cv2.VideoCapture(vid_path)\n",
    "\n",
    "### YOUR CODE BELOW\n",
    "\n",
    "feat = cv2.ORB_create()\n",
    "keypoints1, des1 = feat.detectAndCompute(cv2.cvtColor(reference, cv2.COLOR_BGR2GRAY), None)\n",
    "\n",
    "### YOUR CODE ABOVE\n",
    "\n",
    "while(True):\n",
    "    ret, frame = cam.read()\n",
    "    \n",
    "    if (ret == False):\n",
    "        cam.release()\n",
    "        cam = cv2.VideoCapture(vid_path)\n",
    "        continue\n",
    "    \n",
    "    ### YOUR CODE BELOW\n",
    "    \n",
    "    keypoints2, des2 = feat.detectAndCompute(cv2.cvtColor(frame, cv2.COLOR_BGR2GRAY), None)\n",
    "    \n",
    "    bf = cv2.BFMatcher(cv2.NORM_HAMMING, crossCheck=True)\n",
    "    \n",
    "    matches = bf.match(des1,des2)\n",
    "    \n",
    "    matches = sorted(matches, key = lambda x : x.distance)\n",
    "    \n",
    "    ### YOUR CODE ABOVE\n",
    "    \n",
    "    result = cv2.drawMatches(reference, keypoints1, frame, keypoints2, matches[:30], None,\n",
    "                          flags=cv2.DrawMatchesFlags_NOT_DRAW_SINGLE_POINTS)\n",
    "    \n",
    "    cv2.imshow(\"matched\", result)\n",
    "    \n",
    "    key = cv2.waitKey(740) & 0xFF\n",
    "        \n",
    "    if (key == ord('q')):\n",
    "        break\n",
    "\n",
    "cam.release()\n",
    "cv2.destroyAllWindows()\n",
    "cv2.waitKey(10)"
   ]
  },
  {
   "cell_type": "code",
   "execution_count": null,
   "metadata": {},
   "outputs": [],
   "source": []
  }
 ],
 "metadata": {
  "kernelspec": {
   "display_name": "Python 3",
   "language": "python",
   "name": "python3"
  },
  "language_info": {
   "codemirror_mode": {
    "name": "ipython",
    "version": 3
   },
   "file_extension": ".py",
   "mimetype": "text/x-python",
   "name": "python",
   "nbconvert_exporter": "python",
   "pygments_lexer": "ipython3",
   "version": "3.9.16"
  }
 },
 "nbformat": 4,
 "nbformat_minor": 2
}
