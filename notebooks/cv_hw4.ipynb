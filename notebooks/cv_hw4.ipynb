{
 "cells": [
  {
   "cell_type": "markdown",
   "metadata": {},
   "source": [
    "# Домашнее задание 4\n",
    "\n",
    "1) [3 балла] Перепишите функцию \\_transform_point() из класса Canvas на 223 строке клетки Projecting 3D objects onto plane так, чтобы модель камеры была широкоугольной. Объясните, как вы рассуждали. P.S. Возможно, потребуется подвинуть объекты\n",
    "\n",
    "1) [2 балла] Дополните получение карты диспаратности выравниванием (выпрямлением) изображений с использованием матриц камер, полученных до этого. Сравните карты, которые получаются с выравниванием и без него"
   ]
  },
  {
   "cell_type": "code",
   "execution_count": null,
   "metadata": {},
   "outputs": [],
   "source": []
  }
 ],
 "metadata": {
  "kernelspec": {
   "display_name": "Python 3",
   "language": "python",
   "name": "python3"
  },
  "language_info": {
   "codemirror_mode": {
    "name": "ipython",
    "version": 3
   },
   "file_extension": ".py",
   "mimetype": "text/x-python",
   "name": "python",
   "nbconvert_exporter": "python",
   "pygments_lexer": "ipython3",
   "version": "3.7.3"
  }
 },
 "nbformat": 4,
 "nbformat_minor": 2
}
