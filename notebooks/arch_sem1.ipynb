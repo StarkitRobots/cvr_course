{
 "cells": [
  {
   "cell_type": "markdown",
   "metadata": {},
   "source": [
    "## Обработка возможности выполнения задачи"
   ]
  },
  {
   "cell_type": "code",
   "execution_count": null,
   "metadata": {},
   "outputs": [],
   "source": [
    "def find_joint (self, joint_name = \"\"):\n",
    "        stack = [self.base_point]\n",
    "        all_joints = []\n",
    "\n",
    "        target = stack [0]\n",
    "        found  = False\n",
    "\n",
    "        if (joint_name == \"\"):\n",
    "            found = True\n",
    "\n",
    "        while (len (stack) != 0):\n",
    "            if (len (stack) >= 1000):\n",
    "                print (\"Stack size has reached 1000. Probably smth went wrong, \\\n",
    "for instance the robot model is recursive. Aborting operation.\")\n",
    "                break\n",
    "\n",
    "            curr = stack [0]\n",
    "\n",
    "            if (joint_name != \"\"):\n",
    "                if (curr.name () == joint_name):\n",
    "                    target = curr\n",
    "                    found = True\n",
    "\n",
    "                    break\n",
    "            else:\n",
    "                all_joints.append (curr)\n",
    "\n",
    "            for child in curr.children:\n",
    "                stack.append (child)\n",
    "\n",
    "            stack.remove (curr)\n",
    "\n",
    "        if (found == False):\n",
    "            print (\"Warning: requested joint \", joint_name, \" not found\")\n",
    "\n",
    "        if (joint_name != \"\"):\n",
    "            return target, found\n",
    "\n",
    "        return all_joints"
   ]
  },
  {
   "cell_type": "markdown",
   "metadata": {},
   "source": [
    "## Устойчивость к ошибкам"
   ]
  },
  {
   "cell_type": "code",
   "execution_count": null,
   "metadata": {},
   "outputs": [],
   "source": [
    "ip = \"127.0.0.1\"\n",
    "successfully_obtained_ip = False\n",
    "\n",
    "attempts_num = 0\n",
    "\n",
    "while (successfully_obtained_ip == False):\n",
    "    try:\n",
    "        ip = get_ip_address ()\n",
    "        successfully_obtained_ip = True\n",
    "        print(\"successfully obtained ip\")\n",
    "        break\n",
    "\n",
    "    except:\n",
    "        print (\"failed to obtain ip\")\n",
    "        pass\n",
    "\n",
    "    attempts_num += 1\n",
    "    time.sleep (2)\n",
    "\n",
    "    if (attempts_num > 5):\n",
    "        break"
   ]
  },
  {
   "cell_type": "markdown",
   "metadata": {},
   "source": [
    "## Логгирование"
   ]
  },
  {
   "cell_type": "code",
   "execution_count": null,
   "metadata": {},
   "outputs": [],
   "source": [
    "class Value_tracker:\n",
    "    def __init__ (self, draw_ = True):\n",
    "        self.tracked = {}\n",
    "        self.draw_ = draw_\n",
    "\n",
    "    def name (self):\n",
    "        return \"value_tracker\"\n",
    "\n",
    "    def get_value (self, key):\n",
    "        if (key in self.tracked.keys ()):\n",
    "            return self.tracked [key]\n",
    "\n",
    "        else:\n",
    "            print (\"Warning: no tracked value named \", key)\n",
    "            return 0\n",
    "\n",
    "    def update (self, value_name, value):\n",
    "        self.tracked.update ({value_name : value})\n",
    "\n",
    "    def draw (self, img):\n",
    "        if (self.draw_ == False):\n",
    "            return []\n",
    "\n",
    "        result = np.array (img)\n",
    "\n",
    "        i = 0\n",
    "        for k, v in self.tracked.items():\n",
    "            result = cv2.putText (result, k + \": \" + str (v), (30, 60 * (i + 1)), cv2.FONT_HERSHEY_SIMPLEX,\n",
    "                                 2, (100, 25, 130), 3, cv2.LINE_AA)\n",
    "            i += 1\n",
    "\n",
    "        return [result]"
   ]
  },
  {
   "cell_type": "markdown",
   "metadata": {},
   "source": [
    "## Осмысленные названия переменных"
   ]
  },
  {
   "cell_type": "code",
   "execution_count": null,
   "metadata": {},
   "outputs": [],
   "source": [
    "class Branch:\n",
    "    def __init__(self, length_, angle_, color_, angle_range_,\n",
    "                 length_decrement_factor_, max_depth_, branching_factor_):"
   ]
  },
  {
   "cell_type": "markdown",
   "metadata": {},
   "source": [
    "## Документирование"
   ]
  },
  {
   "cell_type": "code",
   "execution_count": null,
   "metadata": {},
   "outputs": [],
   "source": [
    "class SurroundedObjectDetector(ColoredObjectDetector):\n",
    "    \"\"\"Contains the surrounding color checking on the top of the ColoredObjectDetector\n",
    "methods. Supports multiple filtering criterions (see constructor for the whole\n",
    "list) and the following parameters of the surrounding check: sector for the\n",
    "checking (detailed explanation below), points number.\n",
    "Extends the detection to the \"object + surrounding\", which is practically the\n",
    "case for robotic football. The number of the possible surrounding colors is 2\n",
    "to handle both the field and the marking lines.\"\"\""
   ]
  },
  {
   "cell_type": "markdown",
   "metadata": {},
   "source": [
    "## Single responsibility"
   ]
  },
  {
   "cell_type": "code",
   "execution_count": null,
   "metadata": {},
   "outputs": [],
   "source": [
    "class ColoredObjectDetector(Detector):\n",
    "    \"\"\"Color-based detector with filtration by pixel area, bbox area and blob roundness.\n",
    "Maximum objects number is regulated by objects_num_, passed into the constructor\n",
    "and by default is set to 1. Blob merging is supported, but is disabled by default.\n",
    "Draws the confirmed detections in a verbose manner and the rest of the candidates\n",
    "with single bbox. Supports custom sorting criterion, set to be blob.area() by\n",
    "default.\n",
    "    \"\"\"\n",
    "\n",
    "#...\n",
    "\n",
    "class VisionPostProcessing:\n",
    "    \"\"\"Class VisionPostprocessing enables one to extract the spatial\n",
    "    properties of the found objects, i.e. mutual location of the\n",
    "    goal posts and another parts of the goal to filter out the\n",
    "    inconsistent measurements and extract additional information\n",
    "    from the scene, particularly to improve the one goal post case\n",
    "    handling.\n",
    "    \"\"\""
   ]
  },
  {
   "cell_type": "markdown",
   "metadata": {},
   "source": [
    "## Open/close principle"
   ]
  },
  {
   "cell_type": "code",
   "execution_count": null,
   "metadata": {},
   "outputs": [],
   "source": [
    "#creating derivative classes\n",
    "class Circle(Figure):\n",
    "    def __init__(self, x, y, vx, vy, r, ay):\n",
    "        Figure.__init__(self, x, y, vx, vy)\n",
    "        self.r = r\n",
    "        self.ay = ay\n",
    "    \n",
    "    def draw(self, img):\n",
    "        cv2.circle(img, (int(self.x), int(self.y)), self.r,\n",
    "                       ((201) % 255, (110) % 255, 50), -1)\n",
    "\n",
    "#...\n",
    "\n",
    "class Line(Figure):\n",
    "    def __init__(self, x1, y1, vx1, vy1, ay1, x2, y2, vx2, vy2, ay2):\n",
    "        Figure.__init__(self, 0, 0, 0, 0)\n",
    "\n",
    "#...\n",
    "    \n",
    "    def draw(self, img):\n",
    "        cv2.line(img, (int(self.p1.x), int(self.p1.y)), (int(self.p2.x), int(self.p2.y)),\n",
    "            ((10 + self.p2.y * 2) % 255, (10 + self.p1.x) % 255, 250), 1)\n",
    "    \n",
    "#...\n",
    "\n",
    "class Manager:\n",
    "\n",
    "#...\n",
    "    \n",
    "    def draw(self):\n",
    "        #draw objects\n",
    "        for obj in self.objects:\n",
    "            obj.draw()\n",
    "\n",
    "#..."
   ]
  },
  {
   "cell_type": "markdown",
   "metadata": {},
   "source": [
    "## Liskov substitution principle"
   ]
  },
  {
   "cell_type": "code",
   "execution_count": null,
   "metadata": {},
   "outputs": [],
   "source": [
    "class Triangle_mesh (Surface):\n",
    "    def __init__ (self, coords_, effective_spatial_dimension_ = 0, triangles_ = []):\n",
    "        Surface.__init__ (self, coords_)\n",
    "        \n",
    "        self.triangles = triangles_\n",
    "        \n",
    "        self.effective_spatial_dimension = effective_spatial_dimension_\n",
    "        \n",
    "#...\n",
    "\n",
    "    def draw (self, canvas, emitter):\n",
    "        for tr in sorted (self.triangles, key = lambda tr: -(tr.p1.get_coords () [2] +\n",
    "                                                             tr.p2.get_coords () [2] +\n",
    "                                                             tr.p3.get_coords () [2])):\n",
    "            tr.draw (canvas, emitter, self.coords)\n",
    "\n",
    "class Radially_symmetrical_tri (Triangle_mesh):\n",
    "    def __init__ (self, coords_, r_, h_, color_, stripes_num_, triangles_ = 3):\n",
    "        Triangle_mesh.__init__ (self, coords_, r_)\n",
    "\n",
    "#...\n",
    "\n",
    "class Sphere_tri (Radially_symmetrical_tri):\n",
    "    def __init__ (self, coords_, r_, h_, color_, stripes_num_, triangles_):\n",
    "        Radially_symmetrical_tri.__init__ (self, coords_, r_, 2 * r_, color_, stripes_num_,\n",
    "                                          triangles_)\n",
    "\n",
    "#...    \n",
    "\n",
    "class Tree_tri (Triangle_mesh):\n",
    "    def __init__ (self, coords_, length_, color_, stripes_num_, max_depth_,\n",
    "                  angle_range_, length_decrement_factor_, branching_factor_, triangles_ = 3):\n",
    "        Triangle_mesh.__init__ (self, coords_, length_)\n",
    "\n",
    "#..."
   ]
  },
  {
   "cell_type": "markdown",
   "metadata": {},
   "source": [
    "## Dependency inversion principle"
   ]
  },
  {
   "cell_type": "code",
   "execution_count": null,
   "metadata": {},
   "outputs": [],
   "source": [
    "class Filter:\n",
    "    def __init__(self, name_):\n",
    "        self.name = name_\n",
    "        self.success = []\n",
    "    \n",
    "    def apply (self, img):\n",
    "        return img"
   ]
  }
 ],
 "metadata": {
  "kernelspec": {
   "display_name": "Python 3",
   "language": "python",
   "name": "python3"
  },
  "language_info": {
   "codemirror_mode": {
    "name": "ipython",
    "version": 3
   },
   "file_extension": ".py",
   "mimetype": "text/x-python",
   "name": "python",
   "nbconvert_exporter": "python",
   "pygments_lexer": "ipython3",
   "version": "3.6.9"
  }
 },
 "nbformat": 4,
 "nbformat_minor": 4
}
